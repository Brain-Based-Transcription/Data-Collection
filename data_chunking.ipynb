{
 "cells": [
  {
   "cell_type": "code",
   "execution_count": 42,
   "metadata": {},
   "outputs": [],
   "source": [
    "import pandas as pd\n",
    "import numpy as np\n",
    "import os"
   ]
  },
  {
   "cell_type": "code",
   "execution_count": 43,
   "metadata": {},
   "outputs": [
    {
     "name": "stdout",
     "output_type": "stream",
     "text": [
      "len(dirs): 24\n",
      "0/24\n",
      "1/24\n",
      "2/24\n",
      "3/24\n",
      "4/24\n",
      "5/24\n",
      "6/24\n",
      "7/24\n",
      "8/24\n",
      "9/24\n",
      "10/24\n",
      "11/24\n",
      "12/24\n",
      "13/24\n",
      "14/24\n",
      "15/24\n",
      "16/24\n",
      "17/24\n",
      "18/24\n",
      "19/24\n",
      "20/24\n",
      "21/24\n",
      "22/24\n",
      "23/24\n",
      "172632\n",
      "[[-0.65409213 -0.43702224 -0.18056355]\n",
      " [ 1.153561    2.32855797 -0.1830821 ]\n",
      " [-0.04868803 -0.76136452 -0.297876  ]\n",
      " [-0.83910161 -0.12955612  2.40312958]\n",
      " [-0.03190672 -0.83928841 -0.70131242]\n",
      " [ 1.11433256 -0.3332603  -0.05362078]\n",
      " [ 0.54784304 -0.37998322 -0.35502785]\n",
      " [ 0.09619431 -0.63261592 -0.43352789]]\n",
      "(8, 3)\n",
      "172632\n"
     ]
    }
   ],
   "source": [
    "# Data Chunking\n",
    "NUM_SAMPLES_PER_MATRIX = 8\n",
    "DATA_DIR = 'processed_data/'\n",
    "def get_data_from_csv(path_csv, path_label):\n",
    "    df = pd.read_csv(path_csv)\n",
    "    df.drop(columns=['time'], inplace=True)\n",
    "    X = [np.array(df.iloc[i:i+NUM_SAMPLES_PER_MATRIX]) for i in range(0, len(df) - NUM_SAMPLES_PER_MATRIX, NUM_SAMPLES_PER_MATRIX)]\n",
    "    with open(path_label, 'r') as file:\n",
    "        txt = file.read().strip()\n",
    "        Y = [txt[int(i * len(txt)/len(X))] for i in range(0, len(X))]\n",
    "    return X, Y\n",
    "\n",
    "def get_data():\n",
    "    dirs = os.listdir(DATA_DIR)\n",
    "    print('len(dirs):', len(dirs))\n",
    "    X, Y = [], []\n",
    "    i = 0\n",
    "    for dir in dirs:\n",
    "        print(f'{i}/{len(dirs)}')\n",
    "        files = os.listdir(os.path.join(DATA_DIR, dir))\n",
    "        for file in files:\n",
    "            if file.endswith('.csv'):\n",
    "                X_file, Y_file = get_data_from_csv(os.path.join(DATA_DIR, dir, file), os.path.join(DATA_DIR, dir, file.replace('.csv', '_label.txt')))\n",
    "                X.extend(X_file)\n",
    "                Y.extend(Y_file)\n",
    "        i += 1\n",
    "    return X, Y\n",
    "X, Y = get_data()\n",
    "print(len(X))\n",
    "print(X[0])\n",
    "print(X[0].shape)\n",
    "print(len(Y))"
   ]
  }
 ],
 "metadata": {
  "kernelspec": {
   "display_name": ".venv",
   "language": "python",
   "name": "python3"
  },
  "language_info": {
   "codemirror_mode": {
    "name": "ipython",
    "version": 3
   },
   "file_extension": ".py",
   "mimetype": "text/x-python",
   "name": "python",
   "nbconvert_exporter": "python",
   "pygments_lexer": "ipython3",
   "version": "3.9.20"
  }
 },
 "nbformat": 4,
 "nbformat_minor": 2
}
